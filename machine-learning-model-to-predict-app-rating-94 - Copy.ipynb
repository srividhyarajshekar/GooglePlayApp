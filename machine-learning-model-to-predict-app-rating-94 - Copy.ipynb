{
 "cells": [
  {
   "cell_type": "markdown",
   "metadata": {
    "_cell_guid": "b1076dfc-b9ad-4769-8c92-a6c4dae69d19",
    "_uuid": "8f2839f25d086af736a60e9eeb907d3b93b6e0e5"
   },
   "source": [
    "Using a Random Forest Regressor now, getting a much better accuracy score"
   ]
  },
  {
   "cell_type": "markdown",
   "metadata": {},
   "source": [
    "# Data Preprocessing\n",
    "Handling Missing Data\n",
    "\n",
    "pandas: dropna, fillna\n",
    "Data Cleaning, formatting\n",
    "\n",
    "Encoding categorical data\n",
    "\n",
    "pandas: get_dummies\n",
    "sklearn: LabelEncoder, OneHotEncoder\n",
    "Splitting the data into Train and Test\n",
    "\n",
    "sklearn: train_test_split\n",
    "Feature Scaling:\n",
    "\n",
    "Standardization: (x - mean(x)) / std(x) sklearn StandardScaler\n",
    "Normalization: (x - min(x)) / (max(x) - min(x)) sklearn MinMaxScaler"
   ]
  },
  {
   "cell_type": "markdown",
   "metadata": {},
   "source": [
    "1.IMPORTING LIBRARIES"
   ]
  },
  {
   "cell_type": "code",
   "execution_count": 3,
   "metadata": {
    "_cell_guid": "79c7e3d0-c299-4dcb-8224-4455121ee9b0",
    "_uuid": "d629ff2d2480ee46fbb7e2d37f6b5fab8052498a"
   },
   "outputs": [],
   "source": [
    "\n",
    "import numpy as np\n",
    "import pandas as pd\n",
    "import seaborn as sns\n",
    "import matplotlib.pyplot as plt\n",
    "\n",
    "from sklearn import metrics\n",
    "from sklearn import preprocessing\n",
    "from sklearn.neighbors import KNeighborsRegressor\n",
    "from sklearn.metrics import mean_squared_error\n",
    "from sklearn.metrics import r2_score\n",
    "from math import sqrt\n",
    "from sklearn.ensemble import RandomForestRegressor\n",
    "from sklearn.model_selection import train_test_split\n",
    "import re\n",
    "\n",
    "import time\n",
    "import datetime\n",
    "\n",
    "\n"
   ]
  },
  {
   "cell_type": "markdown",
   "metadata": {},
   "source": [
    "2.LOADING FILE"
   ]
  },
  {
   "cell_type": "code",
   "execution_count": 4,
   "metadata": {},
   "outputs": [
    {
     "data": {
      "text/html": [
       "<div>\n",
       "<style scoped>\n",
       "    .dataframe tbody tr th:only-of-type {\n",
       "        vertical-align: middle;\n",
       "    }\n",
       "\n",
       "    .dataframe tbody tr th {\n",
       "        vertical-align: top;\n",
       "    }\n",
       "\n",
       "    .dataframe thead th {\n",
       "        text-align: right;\n",
       "    }\n",
       "</style>\n",
       "<table border=\"1\" class=\"dataframe\">\n",
       "  <thead>\n",
       "    <tr style=\"text-align: right;\">\n",
       "      <th></th>\n",
       "      <th>App</th>\n",
       "      <th>Category</th>\n",
       "      <th>Rating</th>\n",
       "      <th>Reviews</th>\n",
       "      <th>Size</th>\n",
       "      <th>Installs</th>\n",
       "      <th>Type</th>\n",
       "      <th>Price</th>\n",
       "      <th>Content Rating</th>\n",
       "      <th>Genres</th>\n",
       "      <th>Last Updated</th>\n",
       "      <th>Current Ver</th>\n",
       "      <th>Android Ver</th>\n",
       "    </tr>\n",
       "  </thead>\n",
       "  <tbody>\n",
       "    <tr>\n",
       "      <th>0</th>\n",
       "      <td>Photo Editor &amp; Candy Camera &amp; Grid &amp; ScrapBook</td>\n",
       "      <td>ART_AND_DESIGN</td>\n",
       "      <td>4.1</td>\n",
       "      <td>159</td>\n",
       "      <td>19M</td>\n",
       "      <td>10,000+</td>\n",
       "      <td>Free</td>\n",
       "      <td>0</td>\n",
       "      <td>Everyone</td>\n",
       "      <td>Art &amp; Design</td>\n",
       "      <td>January 7, 2018</td>\n",
       "      <td>1.0.0</td>\n",
       "      <td>4.0.3 and up</td>\n",
       "    </tr>\n",
       "    <tr>\n",
       "      <th>1</th>\n",
       "      <td>Coloring book moana</td>\n",
       "      <td>ART_AND_DESIGN</td>\n",
       "      <td>3.9</td>\n",
       "      <td>967</td>\n",
       "      <td>14M</td>\n",
       "      <td>500,000+</td>\n",
       "      <td>Free</td>\n",
       "      <td>0</td>\n",
       "      <td>Everyone</td>\n",
       "      <td>Art &amp; Design;Pretend Play</td>\n",
       "      <td>January 15, 2018</td>\n",
       "      <td>2.0.0</td>\n",
       "      <td>4.0.3 and up</td>\n",
       "    </tr>\n",
       "    <tr>\n",
       "      <th>2</th>\n",
       "      <td>U Launcher Lite – FREE Live Cool Themes, Hide ...</td>\n",
       "      <td>ART_AND_DESIGN</td>\n",
       "      <td>4.7</td>\n",
       "      <td>87510</td>\n",
       "      <td>8.7M</td>\n",
       "      <td>5,000,000+</td>\n",
       "      <td>Free</td>\n",
       "      <td>0</td>\n",
       "      <td>Everyone</td>\n",
       "      <td>Art &amp; Design</td>\n",
       "      <td>August 1, 2018</td>\n",
       "      <td>1.2.4</td>\n",
       "      <td>4.0.3 and up</td>\n",
       "    </tr>\n",
       "    <tr>\n",
       "      <th>3</th>\n",
       "      <td>Sketch - Draw &amp; Paint</td>\n",
       "      <td>ART_AND_DESIGN</td>\n",
       "      <td>4.5</td>\n",
       "      <td>215644</td>\n",
       "      <td>25M</td>\n",
       "      <td>50,000,000+</td>\n",
       "      <td>Free</td>\n",
       "      <td>0</td>\n",
       "      <td>Teen</td>\n",
       "      <td>Art &amp; Design</td>\n",
       "      <td>June 8, 2018</td>\n",
       "      <td>Varies with device</td>\n",
       "      <td>4.2 and up</td>\n",
       "    </tr>\n",
       "    <tr>\n",
       "      <th>4</th>\n",
       "      <td>Pixel Draw - Number Art Coloring Book</td>\n",
       "      <td>ART_AND_DESIGN</td>\n",
       "      <td>4.3</td>\n",
       "      <td>967</td>\n",
       "      <td>2.8M</td>\n",
       "      <td>100,000+</td>\n",
       "      <td>Free</td>\n",
       "      <td>0</td>\n",
       "      <td>Everyone</td>\n",
       "      <td>Art &amp; Design;Creativity</td>\n",
       "      <td>June 20, 2018</td>\n",
       "      <td>1.1</td>\n",
       "      <td>4.4 and up</td>\n",
       "    </tr>\n",
       "  </tbody>\n",
       "</table>\n",
       "</div>"
      ],
      "text/plain": [
       "                                                 App        Category  Rating  \\\n",
       "0     Photo Editor & Candy Camera & Grid & ScrapBook  ART_AND_DESIGN     4.1   \n",
       "1                                Coloring book moana  ART_AND_DESIGN     3.9   \n",
       "2  U Launcher Lite – FREE Live Cool Themes, Hide ...  ART_AND_DESIGN     4.7   \n",
       "3                              Sketch - Draw & Paint  ART_AND_DESIGN     4.5   \n",
       "4              Pixel Draw - Number Art Coloring Book  ART_AND_DESIGN     4.3   \n",
       "\n",
       "  Reviews  Size     Installs  Type Price Content Rating  \\\n",
       "0     159   19M      10,000+  Free     0       Everyone   \n",
       "1     967   14M     500,000+  Free     0       Everyone   \n",
       "2   87510  8.7M   5,000,000+  Free     0       Everyone   \n",
       "3  215644   25M  50,000,000+  Free     0           Teen   \n",
       "4     967  2.8M     100,000+  Free     0       Everyone   \n",
       "\n",
       "                      Genres      Last Updated         Current Ver  \\\n",
       "0               Art & Design   January 7, 2018               1.0.0   \n",
       "1  Art & Design;Pretend Play  January 15, 2018               2.0.0   \n",
       "2               Art & Design    August 1, 2018               1.2.4   \n",
       "3               Art & Design      June 8, 2018  Varies with device   \n",
       "4    Art & Design;Creativity     June 20, 2018                 1.1   \n",
       "\n",
       "    Android Ver  \n",
       "0  4.0.3 and up  \n",
       "1  4.0.3 and up  \n",
       "2  4.0.3 and up  \n",
       "3    4.2 and up  \n",
       "4    4.4 and up  "
      ]
     },
     "execution_count": 4,
     "metadata": {},
     "output_type": "execute_result"
    }
   ],
   "source": [
    "# Loading the data\n",
    "df = pd.read_csv('googleplaystore.csv')\n",
    "df.head()"
   ]
  },
  {
   "cell_type": "markdown",
   "metadata": {},
   "source": [
    "Note that some of the variables got missing values indicated by '0'. But this is not reliable and we need a summary statistics. Let's take a look at list of variables."
   ]
  },
  {
   "cell_type": "code",
   "execution_count": 5,
   "metadata": {
    "_uuid": "735b233c0d2ba4a6b85937afbb244001789a581c"
   },
   "outputs": [
    {
     "name": "stdout",
     "output_type": "stream",
     "text": [
      "<class 'pandas.core.frame.DataFrame'>\n",
      "RangeIndex: 10841 entries, 0 to 10840\n",
      "Data columns (total 13 columns):\n",
      "App               10841 non-null object\n",
      "Category          10841 non-null object\n",
      "Rating            9367 non-null float64\n",
      "Reviews           10841 non-null object\n",
      "Size              10841 non-null object\n",
      "Installs          10841 non-null object\n",
      "Type              10840 non-null object\n",
      "Price             10841 non-null object\n",
      "Content Rating    10840 non-null object\n",
      "Genres            10841 non-null object\n",
      "Last Updated      10841 non-null object\n",
      "Current Ver       10833 non-null object\n",
      "Android Ver       10838 non-null object\n",
      "dtypes: float64(1), object(12)\n",
      "memory usage: 1.1+ MB\n"
     ]
    }
   ],
   "source": [
    "# Checking the data type of the columns\n",
    "df.info()"
   ]
  },
  {
   "cell_type": "markdown",
   "metadata": {
    "_uuid": "1f4ec19425f3dd590aafc8b03a8d0b080997459e"
   },
   "source": [
    "The dataset has 10,841 records and 13 columns, all of them are object types except the target column (Rating) which is float"
   ]
  },
  {
   "cell_type": "code",
   "execution_count": 6,
   "metadata": {
    "_uuid": "576aa2b905b02dcdf40c3f8ecf34691f003641ed"
   },
   "outputs": [
    {
     "data": {
      "text/plain": [
       "App               False\n",
       "Category          False\n",
       "Rating             True\n",
       "Reviews           False\n",
       "Size              False\n",
       "Installs          False\n",
       "Type               True\n",
       "Price             False\n",
       "Content Rating     True\n",
       "Genres            False\n",
       "Last Updated      False\n",
       "Current Ver        True\n",
       "Android Ver        True\n",
       "dtype: bool"
      ]
     },
     "execution_count": 6,
     "metadata": {},
     "output_type": "execute_result"
    },
    {
     "data": {
      "image/png": "[encoded data removed]",
      "text/plain": [
       "<Figure size 288x288 with 2 Axes>"
      ]
     },
     "metadata": {
      "needs_background": "light"
     },
     "output_type": "display_data"
    }
   ],
   "source": [
    "# Exploring missing data and checking if any has NaN values\n",
    "plt.figure(figsize=(4,4))\n",
    "sns.heatmap(df.isnull())\n",
    "df.isnull().any()"
   ]
  },
  {
   "cell_type": "markdown",
   "metadata": {
    "_uuid": "cb7889da4b45ce1de35aba6bebccdf7e54b82581"
   },
   "source": [
    "Looks like there are missing values in \"Rating\", \"Type\", \"Content Rating\" and \" Android Ver\". But most of these missing values in Rating column."
   ]
  },
  {
   "cell_type": "code",
   "execution_count": 7,
   "metadata": {
    "_uuid": "a1b4306e7e8ba1a972dc4a705cf4456745f3a5e2"
   },
   "outputs": [
    {
     "data": {
      "text/plain": [
       "App                  0\n",
       "Category             0\n",
       "Rating            1474\n",
       "Reviews              0\n",
       "Size                 0\n",
       "Installs             0\n",
       "Type                 1\n",
       "Price                0\n",
       "Content Rating       1\n",
       "Genres               0\n",
       "Last Updated         0\n",
       "Current Ver          8\n",
       "Android Ver          3\n",
       "dtype: int64"
      ]
     },
     "execution_count": 7,
     "metadata": {},
     "output_type": "execute_result"
    }
   ],
   "source": [
    "df.isnull().sum()"
   ]
  },
  {
   "cell_type": "markdown",
   "metadata": {
    "_uuid": "9ee9d3893b22d1239ebf94af342b085780aa8540"
   },
   "source": [
    "There are two strategies to handle missing data, \n",
    "1.Removing records with these missing values \n",
    "2.replacing missing values with a specific value of the column."
   ]
  },
  {
   "cell_type": "markdown",
   "metadata": {},
   "source": [
    "3.DATA CLEANING"
   ]
  },
  {
   "cell_type": "code",
   "execution_count": 8,
   "metadata": {},
   "outputs": [],
   "source": [
    "# The best way to fill missing values might be using the median instead of mean.\n",
    "df['Rating'] = df['Rating'].fillna(df['Rating'].median())\n",
    "\n",
    "# Before filling null values we have to clean all non numerical values & unicode charachters \n",
    "replaces = [u'\\u00AE', u'\\u2013', u'\\u00C3', u'\\u00E3', u'\\u00B3', '[', ']', \"'\"]\n",
    "for i in replaces:\n",
    "    df['Current Ver'] = df['Current Ver'].astype(str).apply(lambda x : x.replace(i, ''))\n",
    "\n",
    "regex = [r'[-+|/:/;(_)@]', r'\\s+', r'[A-Za-z]+']\n",
    "for j in regex:\n",
    "    df['Current Ver'] = df['Current Ver'].astype(str).apply(lambda x : re.sub(j, '0', x))\n",
    "\n",
    "df['Current Ver'] = df['Current Ver'].astype(str).apply(lambda x : x.replace('.', ',',1).replace('.', '').replace(',', '.',1)).astype(float)\n",
    "df['Current Ver'] = df['Current Ver'].fillna(df['Current Ver'].median())"
   ]
  },
  {
   "cell_type": "code",
   "execution_count": 9,
   "metadata": {
    "_uuid": "04a542636ef4c49e467e45368ef5f4e40920210a"
   },
   "outputs": [
    {
     "data": {
      "text/plain": [
       "array(['ART_AND_DESIGN', 'AUTO_AND_VEHICLES', 'BEAUTY',\n",
       "       'BOOKS_AND_REFERENCE', 'BUSINESS', 'COMICS', 'COMMUNICATION',\n",
       "       'DATING', 'EDUCATION', 'ENTERTAINMENT', 'EVENTS', 'FINANCE',\n",
       "       'FOOD_AND_DRINK', 'HEALTH_AND_FITNESS', 'HOUSE_AND_HOME',\n",
       "       'LIBRARIES_AND_DEMO', 'LIFESTYLE', 'GAME', 'FAMILY', 'MEDICAL',\n",
       "       'SOCIAL', 'SHOPPING', 'PHOTOGRAPHY', 'SPORTS', 'TRAVEL_AND_LOCAL',\n",
       "       'TOOLS', 'PERSONALIZATION', 'PRODUCTIVITY', 'PARENTING', 'WEATHER',\n",
       "       'VIDEO_PLAYERS', 'NEWS_AND_MAGAZINES', 'MAPS_AND_NAVIGATION',\n",
       "       '1.9'], dtype=object)"
      ]
     },
     "execution_count": 9,
     "metadata": {},
     "output_type": "execute_result"
    }
   ],
   "source": [
    "# Count the number of unique values in category column \n",
    "df['Category'].unique()"
   ]
  },
  {
   "cell_type": "code",
   "execution_count": 10,
   "metadata": {
    "_uuid": "b5ac20b6e1fa3611ffc1fc2b2e552636729f0324"
   },
   "outputs": [],
   "source": [
    "# Check the record  of unreasonable value which is 1.9\n",
    "i = df[df['Category'] == '1.9'].index\n",
    "df.loc[i]\n",
    "df = df.drop(i)"
   ]
  },
  {
   "cell_type": "markdown",
   "metadata": {
    "_uuid": "530ef2300216249e4198c80ab688501f1878a1b4"
   },
   "source": [
    "It's obvious that the first value of this record is missing (App name) and all other values are respectively propagated backward starting from \"Category\" towards the \"Current Ver\"; and the last column which is \"Android Ver\" is left null. It's better to drop the entire recored instead of consider these unreasonable values while cleaning each column!\n"
   ]
  },
  {
   "cell_type": "code",
   "execution_count": 11,
   "metadata": {
    "_uuid": "1263c3cebbdc8abe1c3758825153cfc8dfcc6742"
   },
   "outputs": [],
   "source": [
    "# Removing NaN values\n",
    "df = df[pd.notnull(df['Last Updated'])]\n",
    "df = df[pd.notnull(df['Content Rating'])]"
   ]
  },
  {
   "cell_type": "markdown",
   "metadata": {
    "_uuid": "701c768737179ec7d949597382bcf35980ff5f32"
   },
   "source": [
    "# 4.Categorical Data Encoding¶"
   ]
  },
  {
   "cell_type": "markdown",
   "metadata": {
    "_uuid": "bea0c8a5d124a8a3c16be3f2104238f9a6a1f6ac"
   },
   "source": [
    "Many machine learning algorithms can support categorical values without further manipulation but there are many more algorithms that do not. We need to make all data ready for the model, so we will convert categorical variables (variables that stored as text values) into numircal variables."
   ]
  },
  {
   "cell_type": "code",
   "execution_count": 12,
   "metadata": {
    "_uuid": "08b7abb6432474217a035974c70a488fb86bf3c9"
   },
   "outputs": [],
   "source": [
    "# App values encoding\n",
    "le = preprocessing.LabelEncoder()\n",
    "df['App'] = le.fit_transform(df['App'])\n",
    "# This encoder converts the values into numeric values"
   ]
  },
  {
   "cell_type": "code",
   "execution_count": 13,
   "metadata": {},
   "outputs": [],
   "source": [
    "# Category features encoding\n",
    "category_list = df['Category'].unique().tolist() \n",
    "category_list = ['cat_' + word for word in category_list]\n",
    "df = pd.concat([df, pd.get_dummies(df['Category'], prefix='cat')], axis=1)"
   ]
  },
  {
   "cell_type": "code",
   "execution_count": 14,
   "metadata": {
    "_uuid": "f9a6acc1c827d2a68351fa61720c357be6b60d9a"
   },
   "outputs": [],
   "source": [
    "# Genres features encoding\n",
    "le = preprocessing.LabelEncoder()\n",
    "df['Genres'] = le.fit_transform(df['Genres'])"
   ]
  },
  {
   "cell_type": "code",
   "execution_count": 15,
   "metadata": {
    "_uuid": "b6c3c187c5a39f584bf688e04c2380a3e4e0faae"
   },
   "outputs": [],
   "source": [
    "# Encode Content Rating features\n",
    "le = preprocessing.LabelEncoder()\n",
    "df['Content Rating'] = le.fit_transform(df['Content Rating'])"
   ]
  },
  {
   "cell_type": "code",
   "execution_count": 16,
   "metadata": {
    "_uuid": "e6b5d46c088714ed7c36bf6a1ea940855f577df2"
   },
   "outputs": [],
   "source": [
    "# Price cealning\n",
    "df['Price'] = df['Price'].apply(lambda x : x.strip('$'))"
   ]
  },
  {
   "cell_type": "code",
   "execution_count": 17,
   "metadata": {
    "_uuid": "477c75635f893a83e5601e1f42b59d9ab32871ac"
   },
   "outputs": [],
   "source": [
    "# Installs cealning\n",
    "df['Installs'] = df['Installs'].apply(lambda x : x.strip('+').replace(',', ''))"
   ]
  },
  {
   "cell_type": "code",
   "execution_count": 18,
   "metadata": {
    "_uuid": "0a25b9b01bf8b9d30164b37760a88d196ed6f17a"
   },
   "outputs": [],
   "source": [
    "# Type encoding\n",
    "df['Type'] = pd.get_dummies(df['Type'])"
   ]
  },
  {
   "cell_type": "markdown",
   "metadata": {
    "_uuid": "37d8d15b89d3bf8f89228c5268059b809b3472d7"
   },
   "source": [
    "The above line drops the reference column and just keeps only one of the two columns as retaining this extra column does not add any new information for the modeling process, this line is exactly the same as setting drop_first parameter to True."
   ]
  },
  {
   "cell_type": "code",
   "execution_count": 19,
   "metadata": {
    "_uuid": "9c76efe031c2553674c2151604667873da8879f3"
   },
   "outputs": [],
   "source": [
    "# Last Updated encoding\n",
    "df['Last Updated'] = df['Last Updated'].apply(lambda x : time.mktime(datetime.datetime.strptime(x, '%B %d, %Y').timetuple()))"
   ]
  },
  {
   "cell_type": "code",
   "execution_count": 20,
   "metadata": {
    "_uuid": "7c832e8a86b208d73f2b895a6af938f064197989"
   },
   "outputs": [],
   "source": [
    "# Size cealning\n",
    "df['Size'] = df['Size'].apply(lambda x: x.strip('M').strip('k'))\n",
    "df[df['Size'] == 'Varies with device'] = 0"
   ]
  },
  {
   "cell_type": "markdown",
   "metadata": {
    "_uuid": "560d124e3e54f32ddc96e2673272933868ba41b6"
   },
   "source": [
    "# Evaluation Procedure"
   ]
  },
  {
   "cell_type": "markdown",
   "metadata": {},
   "source": [
    "The training dataset (also called training set, learning set) is the intial dataset used to train an algorithm to understand how to apply technologies. It includes both input data and the corresponding expected output. The purpose of the training dataset is to provide your algorithm with “ground truth” data.\n",
    "\n",
    "The test dataset, however, is used to assess how well your algorithm was trained with the training dataset. You can’t simply reuse the training dataset in the testing stage because the algorithm will already “know” the expected output, which defeats the purpose of testing the algorithm."
   ]
  },
  {
   "cell_type": "code",
   "execution_count": 21,
   "metadata": {
    "_uuid": "55091ada59112cbb0386555215456155325b4afb"
   },
   "outputs": [],
   "source": [
    "# Split data into training and testing sets\n",
    "features = ['App', 'Size', 'Installs', 'Type', 'Price', 'Content Rating', 'Genres', 'Last Updated', 'Current Ver']\n",
    "features.extend(category_list)\n",
    "X = df[features]\n",
    "y = df['Rating']"
   ]
  },
  {
   "cell_type": "code",
   "execution_count": 22,
   "metadata": {
    "_uuid": "ac520abc0daca1d026bf1220848ee15aba69e1d1"
   },
   "outputs": [
    {
     "data": {
      "text/plain": [
       "(        App Size   Installs  Type Price  Content Rating  Genres  Last Updated  \\\n",
       " 10802  4308   28      10000     1     0               4      52  1.438799e+09   \n",
       " 2943      0    0          0     0     0               0       0  0.000000e+00   \n",
       " 8547   4427  3.0     100000     1     0               1      91  1.484764e+09   \n",
       " 3247   6436   16   50000000     1     0               1     108  1.532457e+09   \n",
       " 2755   5354   52   10000000     1     0               1      96  1.533062e+09   \n",
       " 4438   6685  8.6    1000000     1     0               1      80  1.533235e+09   \n",
       " 8783   8104   41    1000000     1     0               1      97  1.513449e+09   \n",
       " 2548      0    0          0     0     0               0       0  0.000000e+00   \n",
       " 6629   1229  7.2       5000     1     0               1     112  1.532975e+09   \n",
       " 7388   2038  9.9        100     1     0               1      22  1.492540e+09   \n",
       " 7811    835   70    1000000     1     0               3       0  1.468348e+09   \n",
       " 10390  3308   19    1000000     1     0               1      58  1.518201e+09   \n",
       " 817    5227  1.2     100000     1     0               1      39  1.420915e+09   \n",
       " 3827      0    0          0     0     0               0       0  0.000000e+00   \n",
       " 5241   1646  4.2       1000     1     0               4      23  1.476815e+09   \n",
       " 3031   9278   84     100000     1     0               1     102  1.527100e+09   \n",
       " 1258   5884   11    5000000     1     0               1      62  1.529519e+09   \n",
       " 6043   4052  2.6        500     1     0               1      39  1.500662e+09   \n",
       " 3902   5658   73   50000000     1     0               1      47  1.516300e+09   \n",
       " 1775   8363   54    1000000     1     0               1       6  1.531766e+09   \n",
       " 2570   4895   20      50000     1     0               1     101  1.532889e+09   \n",
       " 6542   7641  2.0       1000     1     0               1     108  1.427395e+09   \n",
       " 7239   1982  8.3        100     1     0               1      39  1.530038e+09   \n",
       " 1651      0    0          0     0     0               0       0  0.000000e+00   \n",
       " 21     1748   12     100000     1     0               1       9  1.521484e+09   \n",
       " 3509   8586   12    5000000     1     0               1      82  1.531852e+09   \n",
       " 1863   5360   99   10000000     1     0               2      91  1.527619e+09   \n",
       " 10059  6407   26     500000     1     0               1      27  1.457030e+09   \n",
       " 4283      0    0          0     0     0               0       0  0.000000e+00   \n",
       " 3480      0    0          0     0     0               0       0  0.000000e+00   \n",
       " ...     ...  ...        ...   ...   ...             ...     ...           ...   \n",
       " 1366      0    0          0     0     0               0       0  0.000000e+00   \n",
       " 3932    867   24   10000000     1     0               1      82  1.532284e+09   \n",
       " 653    5897  3.3         50     1     0               1      38  1.532889e+09   \n",
       " 1406   2333   19    1000000     1     0               1      62  1.531679e+09   \n",
       " 409      47   32    1000000     1     0               1      36  1.533235e+09   \n",
       " 6899   1657  1.8      50000     1     0               1      81  1.511289e+09   \n",
       " 9166   6267   58  100000000     1     0               3       0  1.532371e+09   \n",
       " 8036   6776   54       5000     1     0               1      22  1.530902e+09   \n",
       " 574       0    0          0     0     0               0       0  0.000000e+00   \n",
       " 7290   6710  7.0     100000     1     0               1      70  1.504723e+09   \n",
       " 3416   4556  3.3   10000000     1     0               1      80  1.509043e+09   \n",
       " 2102   2389   48     100000     1     0               1      89  1.528828e+09   \n",
       " 2443   5150  1.5         10     1     0               1      71  1.532975e+09   \n",
       " 239       0    0          0     0     0               0       0  0.000000e+00   \n",
       " 4452   6809   12        100     0  0.99               1      80  1.526323e+09   \n",
       " 5648   4487   50     100000     0  2.99               4       0  1.427913e+09   \n",
       " 10743  4280  1.2        500     1     0               1      52  1.459363e+09   \n",
       " 6400   1822   30     500000     1     0               1      67  1.530815e+09   \n",
       " 9289   8579   10        500     1     0               1      39  1.466707e+09   \n",
       " 9224   8214  2.3       1000     1     0               4     101  1.532111e+09   \n",
       " 10234  5332  3.1     100000     1     0               1      82  1.445020e+09   \n",
       " 10141  3457   50      10000     1     0               1      62  1.458758e+09   \n",
       " 1520   5912  3.7     100000     1     0               1      66  1.516041e+09   \n",
       " 4829   2758   56    1000000     1     0               4       0  1.469903e+09   \n",
       " 10201  6219  1.1     100000     1     0               1     108  1.527100e+09   \n",
       " 9372   3902  7.1     500000     1     0               1       6  1.440355e+09   \n",
       " 7291   2010  2.3        100     1     0               1      81  1.485196e+09   \n",
       " 1344   5135   39   10000000     1     0               1      62  1.532284e+09   \n",
       " 7293   1996  1.1       1000     1     0               1      82  1.533148e+09   \n",
       " 1289      0    0          0     0     0               0       0  0.000000e+00   \n",
       " \n",
       "        Current Ver  cat_ART_AND_DESIGN           ...             cat_SPORTS  \\\n",
       " 10802     1.300000                   0           ...                      0   \n",
       " 2943      0.000000                   0           ...                      0   \n",
       " 8547      1.140000                   0           ...                      0   \n",
       " 3247      7.610000                   0           ...                      0   \n",
       " 2755      5.211000                   0           ...                      0   \n",
       " 4438      4.600000                   0           ...                      0   \n",
       " 8783      3.300000                   0           ...                      0   \n",
       " 2548      0.000000                   0           ...                      0   \n",
       " 6629      4.120000                   0           ...                      0   \n",
       " 7388      2.900000                   0           ...                      0   \n",
       " 7811      1.120000                   0           ...                      0   \n",
       " 10390     5.100000                   0           ...                      0   \n",
       " 817      15.940000                   0           ...                      0   \n",
       " 3827      0.000000                   0           ...                      0   \n",
       " 5241      1.100000                   0           ...                      0   \n",
       " 3031      4.400000                   0           ...                      1   \n",
       " 1258      1.040000                   0           ...                      0   \n",
       " 6043      1.000000                   0           ...                      0   \n",
       " 3902      6.752220                   0           ...                      0   \n",
       " 1775      1.600000                   0           ...                      0   \n",
       " 2570      4.650020                   0           ...                      0   \n",
       " 6542      1.000000                   0           ...                      0   \n",
       " 7239      3.800000                   0           ...                      0   \n",
       " 1651      0.000000                   0           ...                      0   \n",
       " 21        1.100000                   1           ...                      0   \n",
       " 3509      5.011107                   0           ...                      0   \n",
       " 1863      1.140000                   0           ...                      0   \n",
       " 10059     1.000000                   0           ...                      0   \n",
       " 4283      0.000000                   0           ...                      0   \n",
       " 3480      0.000000                   0           ...                      0   \n",
       " ...            ...                 ...           ...                    ...   \n",
       " 1366      0.000000                   0           ...                      0   \n",
       " 3932      4.519000                   0           ...                      0   \n",
       " 653       1.600000                   0           ...                      0   \n",
       " 1406      6.510000                   0           ...                      0   \n",
       " 409       5.650000                   0           ...                      0   \n",
       " 6899      1.800000                   0           ...                      0   \n",
       " 9166      3.210000                   0           ...                      0   \n",
       " 8036     11.131805                   0           ...                      0   \n",
       " 574       0.000000                   0           ...                      0   \n",
       " 7290      3.140000                   0           ...                      0   \n",
       " 3416      4.000000                   0           ...                      0   \n",
       " 2102      1.110000                   0           ...                      0   \n",
       " 2443      1.000000                   0           ...                      0   \n",
       " 239       0.000000                   0           ...                      0   \n",
       " 4452   2018.015140                   0           ...                      0   \n",
       " 5648      1.070000                   0           ...                      0   \n",
       " 10743     1.000000                   0           ...                      0   \n",
       " 6400      2.360000                   0           ...                      0   \n",
       " 9289      2.000000                   0           ...                      0   \n",
       " 9224      2.100000                   0           ...                      0   \n",
       " 10234     7.950000                   0           ...                      0   \n",
       " 10141     1.000000                   0           ...                      0   \n",
       " 1520      1.000000                   0           ...                      0   \n",
       " 4829      1.011000                   0           ...                      0   \n",
       " 10201     1.000000                   0           ...                      0   \n",
       " 9372      2.050000                   0           ...                      0   \n",
       " 7291      1.050000                   0           ...                      0   \n",
       " 1344      3.640000                   0           ...                      0   \n",
       " 7293      1.200000                   0           ...                      0   \n",
       " 1289      0.000000                   0           ...                      0   \n",
       " \n",
       "        cat_TRAVEL_AND_LOCAL  cat_TOOLS  cat_PERSONALIZATION  cat_PRODUCTIVITY  \\\n",
       " 10802                     0          0                    0                 0   \n",
       " 2943                      0          0                    0                 0   \n",
       " 8547                      0          0                    0                 0   \n",
       " 3247                      0          1                    0                 0   \n",
       " 2755                      0          0                    0                 0   \n",
       " 4438                      0          0                    1                 0   \n",
       " 8783                      0          0                    0                 0   \n",
       " 2548                      0          0                    0                 0   \n",
       " 6629                      0          0                    0                 0   \n",
       " 7388                      0          0                    0                 0   \n",
       " 7811                      0          0                    0                 0   \n",
       " 10390                     0          0                    0                 0   \n",
       " 817                       0          0                    0                 0   \n",
       " 3827                      0          0                    0                 0   \n",
       " 5241                      0          0                    0                 0   \n",
       " 3031                      0          0                    0                 0   \n",
       " 1258                      0          0                    0                 0   \n",
       " 6043                      0          0                    0                 0   \n",
       " 3902                      0          0                    0                 0   \n",
       " 1775                      0          0                    0                 0   \n",
       " 2570                      0          0                    0                 0   \n",
       " 6542                      0          1                    0                 0   \n",
       " 7239                      0          0                    0                 0   \n",
       " 1651                      0          0                    0                 0   \n",
       " 21                        0          0                    0                 0   \n",
       " 3509                      0          0                    0                 1   \n",
       " 1863                      0          0                    0                 0   \n",
       " 10059                     0          0                    0                 0   \n",
       " 4283                      0          0                    0                 0   \n",
       " 3480                      0          0                    0                 0   \n",
       " ...                     ...        ...                  ...               ...   \n",
       " 1366                      0          0                    0                 0   \n",
       " 3932                      0          0                    0                 1   \n",
       " 653                       0          0                    0                 0   \n",
       " 1406                      0          0                    0                 0   \n",
       " 409                       0          0                    0                 0   \n",
       " 6899                      0          0                    0                 0   \n",
       " 9166                      0          0                    0                 0   \n",
       " 8036                      0          0                    0                 0   \n",
       " 574                       0          0                    0                 0   \n",
       " 7290                      0          0                    0                 0   \n",
       " 3416                      0          0                    1                 0   \n",
       " 2102                      0          0                    0                 0   \n",
       " 2443                      0          0                    0                 0   \n",
       " 239                       0          0                    0                 0   \n",
       " 4452                      0          0                    1                 0   \n",
       " 5648                      0          0                    0                 0   \n",
       " 10743                     0          0                    0                 0   \n",
       " 6400                      0          0                    0                 0   \n",
       " 9289                      0          0                    0                 0   \n",
       " 9224                      0          0                    0                 0   \n",
       " 10234                     0          0                    0                 1   \n",
       " 10141                     0          0                    0                 0   \n",
       " 1520                      0          0                    0                 0   \n",
       " 4829                      0          0                    0                 0   \n",
       " 10201                     0          1                    0                 0   \n",
       " 9372                      0          0                    0                 0   \n",
       " 7291                      0          0                    0                 0   \n",
       " 1344                      0          0                    0                 0   \n",
       " 7293                      0          0                    0                 1   \n",
       " 1289                      0          0                    0                 0   \n",
       " \n",
       "        cat_PARENTING  cat_WEATHER  cat_VIDEO_PLAYERS  cat_NEWS_AND_MAGAZINES  \\\n",
       " 10802              0            0                  0                       0   \n",
       " 2943               0            0                  0                       0   \n",
       " 8547               0            0                  0                       0   \n",
       " 3247               0            0                  0                       0   \n",
       " 2755               0            0                  0                       0   \n",
       " 4438               0            0                  0                       0   \n",
       " 8783               0            0                  0                       0   \n",
       " 2548               0            0                  0                       0   \n",
       " 6629               0            0                  0                       0   \n",
       " 7388               0            0                  0                       0   \n",
       " 7811               0            0                  0                       0   \n",
       " 10390              0            0                  0                       0   \n",
       " 817                0            0                  0                       0   \n",
       " 3827               0            0                  0                       0   \n",
       " 5241               0            0                  0                       0   \n",
       " 3031               0            0                  0                       0   \n",
       " 1258               0            0                  0                       0   \n",
       " 6043               0            0                  0                       0   \n",
       " 3902               0            0                  0                       0   \n",
       " 1775               0            0                  0                       0   \n",
       " 2570               0            0                  0                       0   \n",
       " 6542               0            0                  0                       0   \n",
       " 7239               0            0                  0                       0   \n",
       " 1651               0            0                  0                       0   \n",
       " 21                 0            0                  0                       0   \n",
       " 3509               0            0                  0                       0   \n",
       " 1863               0            0                  0                       0   \n",
       " 10059              0            0                  0                       0   \n",
       " 4283               0            0                  0                       0   \n",
       " 3480               0            0                  0                       0   \n",
       " ...              ...          ...                ...                     ...   \n",
       " 1366               0            0                  0                       0   \n",
       " 3932               0            0                  0                       0   \n",
       " 653                0            0                  0                       0   \n",
       " 1406               0            0                  0                       0   \n",
       " 409                0            0                  0                       0   \n",
       " 6899               0            0                  0                       0   \n",
       " 9166               0            0                  0                       0   \n",
       " 8036               0            0                  0                       0   \n",
       " 574                0            0                  0                       0   \n",
       " 7290               0            0                  0                       0   \n",
       " 3416               0            0                  0                       0   \n",
       " 2102               0            0                  0                       0   \n",
       " 2443               0            0                  0                       0   \n",
       " 239                0            0                  0                       0   \n",
       " 4452               0            0                  0                       0   \n",
       " 5648               0            0                  0                       0   \n",
       " 10743              0            0                  0                       0   \n",
       " 6400               0            0                  0                       0   \n",
       " 9289               0            0                  0                       0   \n",
       " 9224               0            0                  0                       0   \n",
       " 10234              0            0                  0                       0   \n",
       " 10141              0            0                  0                       0   \n",
       " 1520               0            0                  0                       0   \n",
       " 4829               0            0                  0                       0   \n",
       " 10201              0            0                  0                       0   \n",
       " 9372               0            0                  0                       0   \n",
       " 7291               0            0                  0                       0   \n",
       " 1344               0            0                  0                       0   \n",
       " 7293               0            0                  0                       0   \n",
       " 1289               0            0                  0                       0   \n",
       " \n",
       "        cat_MAPS_AND_NAVIGATION  \n",
       " 10802                        0  \n",
       " 2943                         0  \n",
       " 8547                         0  \n",
       " 3247                         0  \n",
       " 2755                         0  \n",
       " 4438                         0  \n",
       " 8783                         0  \n",
       " 2548                         0  \n",
       " 6629                         0  \n",
       " 7388                         0  \n",
       " 7811                         0  \n",
       " 10390                        0  \n",
       " 817                          0  \n",
       " 3827                         0  \n",
       " 5241                         0  \n",
       " 3031                         0  \n",
       " 1258                         0  \n",
       " 6043                         0  \n",
       " 3902                         0  \n",
       " 1775                         0  \n",
       " 2570                         0  \n",
       " 6542                         0  \n",
       " 7239                         0  \n",
       " 1651                         0  \n",
       " 21                           0  \n",
       " 3509                         0  \n",
       " 1863                         0  \n",
       " 10059                        0  \n",
       " 4283                         0  \n",
       " 3480                         0  \n",
       " ...                        ...  \n",
       " 1366                         0  \n",
       " 3932                         0  \n",
       " 653                          0  \n",
       " 1406                         0  \n",
       " 409                          0  \n",
       " 6899                         0  \n",
       " 9166                         0  \n",
       " 8036                         0  \n",
       " 574                          0  \n",
       " 7290                         1  \n",
       " 3416                         0  \n",
       " 2102                         0  \n",
       " 2443                         0  \n",
       " 239                          0  \n",
       " 4452                         0  \n",
       " 5648                         0  \n",
       " 10743                        0  \n",
       " 6400                         0  \n",
       " 9289                         0  \n",
       " 9224                         0  \n",
       " 10234                        0  \n",
       " 10141                        0  \n",
       " 1520                         0  \n",
       " 4829                         0  \n",
       " 10201                        0  \n",
       " 9372                         0  \n",
       " 7291                         0  \n",
       " 1344                         0  \n",
       " 7293                         0  \n",
       " 1289                         0  \n",
       " \n",
       " [8130 rows x 42 columns],\n",
       "         App Size    Installs  Type Price  Content Rating  Genres  \\\n",
       " 212    1519   14     1000000     1     0               1      22   \n",
       " 6547   7834   60      100000     0  2.99               1      23   \n",
       " 2378    372   25       10000     0  9.99               1      71   \n",
       " 5744   8964  3.0       50000     1     0               1     108   \n",
       " 3793   5273   12     1000000     1     0               2      75   \n",
       " 10736  4297  2.6         100     1     0               1      22   \n",
       " 6366   7592   14          50     0  4.85               1      80   \n",
       " 450    2325  118     1000000     1     0               1      36   \n",
       " 5940      5   14         100     1     0               1      75   \n",
       " 725    5546   22     1000000     1     0               3      39   \n",
       " 9344   6412   51     1000000     1     0               1      19   \n",
       " 8781   3419  6.2      100000     1     0               1      83   \n",
       " 10399  4347   34          10     1     0               1      71   \n",
       " 9814    536  9.2      500000     1     0               1      39   \n",
       " 4542   7280   37       50000     0  1.99               1       6   \n",
       " 8220   4986   11       10000     1     0               1      19   \n",
       " 8694   8028   12       10000     1     0               4      80   \n",
       " 2766   8957  6.5     1000000     1     0               1      96   \n",
       " 816    2644   15      100000     1     0               1      39   \n",
       " 344       0    0           0     0     0               0       0   \n",
       " 43     6871  1.2      100000     1     0               1      11   \n",
       " 7119   1902  3.3     1000000     1     0               1      80   \n",
       " 892    7052   25    50000000     1     0               1      52   \n",
       " 3060      0    0           0     0     0               0       0   \n",
       " 6787   6112  7.3     1000000     1     0               1     108   \n",
       " 3816   4933   13  1000000000     1     0               4      75   \n",
       " 8268   5942   91     5000000     1     0               4      91   \n",
       " 8959   3095  2.7         100     1     0               1     101   \n",
       " 6099   1033  9.6        1000     1     0               1      62   \n",
       " 8527   3367  3.3      100000     1     0               1     108   \n",
       " ...     ...  ...         ...   ...   ...             ...     ...   \n",
       " 1459   5666   18     1000000     1     0               1      65   \n",
       " 9405   3625   82      100000     1     0               1      60   \n",
       " 6252   1473  7.4       50000     0  4.99               4      91   \n",
       " 10338  8443   26         100     1     0               1      80   \n",
       " 3406   3182  1.9     1000000     1     0               1      80   \n",
       " 7219   1938   22    50000000     1     0               1     108   \n",
       " 1858   6198   35      500000     1     0               3      91   \n",
       " 9833      0    0           0     0     0               0       0   \n",
       " 474       0    0           0     0     0               0       0   \n",
       " 10110   510   13         100     1     0               4      52   \n",
       " 10281     0    0           0     0     0               0       0   \n",
       " 8135   5534   18      100000     1     0               1      67   \n",
       " 9348   5644   99     1000000     1     0               3      88   \n",
       " 8590   6353  288       10000     0  1.99               1      80   \n",
       " 3787    143   35     1000000     1     0               2      75   \n",
       " 1486   7527  1.9       10000     1     0               1      65   \n",
       " 3165      0    0           0     0     0               0       0   \n",
       " 3196   5705   13     1000000     1     0               1     110   \n",
       " 4312   5521  4.5        5000     1     0               4      36   \n",
       " 7838   9037  2.4       10000     1     0               4     112   \n",
       " 7002      0    0           0     0     0               0       0   \n",
       " 203       0    0           0     0     0               0       0   \n",
       " 1500   9306   25     1000000     1     0               1      65   \n",
       " 10567  4233   26           5     1     0               1     102   \n",
       " 4487   7024   16        5000     0  1.49               1      80   \n",
       " 6938   1334  3.8          10     1     0               1      22   \n",
       " 2779   5863   29     5000000     1     0               1      96   \n",
       " 2208      0    0           0     0     0               0       0   \n",
       " 10244  1435  3.1       10000     1     0               1     102   \n",
       " 2143   3966   37      500000     1     0               1      43   \n",
       " \n",
       "        Last Updated  Current Ver  cat_ART_AND_DESIGN           ...             \\\n",
       " 212    1.531161e+09     2.360000                   0           ...              \n",
       " 6547   1.533235e+09     3.460000                   0           ...              \n",
       " 2378   1.475433e+09     2.110000                   0           ...              \n",
       " 5744   1.521225e+09     2.000000                   0           ...              \n",
       " 3793   1.533235e+09    19.280000                   0           ...              \n",
       " 10736  1.525718e+09     1.000000                   0           ...              \n",
       " 6366   1.378838e+09     1.000000                   0           ...              \n",
       " 450    1.465238e+09     5.280000                   0           ...              \n",
       " 5940   1.530815e+09     1.000000                   0           ...              \n",
       " 725    1.508179e+09     2.510000                   0           ...              \n",
       " 9344   1.509647e+09     1.060000                   0           ...              \n",
       " 8781   1.522435e+09     1.270000                   0           ...              \n",
       " 10399  1.530729e+09     2.010000                   0           ...              \n",
       " 9814   1.533148e+09     3.310000                   0           ...              \n",
       " 4542   1.488393e+09     1.150000                   0           ...              \n",
       " 8220   1.475260e+09     1.200000                   0           ...              \n",
       " 8694   1.527705e+09     1.700000                   0           ...              \n",
       " 2766   1.528828e+09     5.680000                   0           ...              \n",
       " 816    1.482172e+09     2.310000                   0           ...              \n",
       " 344    0.000000e+00     0.000000                   0           ...              \n",
       " 43     1.523731e+09     1.460000                   1           ...              \n",
       " 7119   1.521830e+09     3.100000                   0           ...              \n",
       " 892    1.532543e+09    18.070000                   0           ...              \n",
       " 3060   0.000000e+00     0.000000                   0           ...              \n",
       " 6787   1.489689e+09     1.760000                   0           ...              \n",
       " 3816   1.533062e+09     5.200000                   0           ...              \n",
       " 8268   1.532975e+09     1.400000                   0           ...              \n",
       " 8959   1.444243e+09     1.200000                   0           ...              \n",
       " 6099   1.511894e+09     2.100000                   0           ...              \n",
       " 8527   1.523471e+09    12.041800                   0           ...              \n",
       " ...             ...          ...                 ...           ...              \n",
       " 1459   1.532457e+09     8.210000                   0           ...              \n",
       " 9405   1.531939e+09     4.300000                   0           ...              \n",
       " 6252   1.415558e+09     1.250000                   0           ...              \n",
       " 10338  1.513881e+09     1.000000                   0           ...              \n",
       " 3406   1.462905e+09     1.720000                   0           ...              \n",
       " 7219   1.531939e+09     4.700000                   0           ...              \n",
       " 1858   1.531334e+09     1.930000                   0           ...              \n",
       " 9833   0.000000e+00     0.000000                   0           ...              \n",
       " 474    0.000000e+00     0.000000                   0           ...              \n",
       " 10110  1.515523e+09     1.000000                   0           ...              \n",
       " 10281  0.000000e+00     0.000000                   0           ...              \n",
       " 8135   1.530038e+09     5.100000                   0           ...              \n",
       " 9348   1.527791e+09     1.060000                   0           ...              \n",
       " 8590   1.360435e+09     0.611000                   0           ...              \n",
       " 3787   1.528223e+09     3.191100                   0           ...              \n",
       " 1486   1.503254e+09     1.000000                   0           ...              \n",
       " 3165   0.000000e+00     0.000000                   0           ...              \n",
       " 3196   1.527532e+09     1.245000                   0           ...              \n",
       " 4312   1.490553e+09     5.206000                   0           ...              \n",
       " 7838   1.486751e+09     1.000000                   0           ...              \n",
       " 7002   0.000000e+00     0.000000                   0           ...              \n",
       " 203    0.000000e+00     0.000000                   0           ...              \n",
       " 1500   1.531679e+09     4.515000                   0           ...              \n",
       " 10567  1.519151e+09     1.000000                   0           ...              \n",
       " 4487   1.529519e+09     5.100000                   0           ...              \n",
       " 6938   1.528137e+09     1.000000                   0           ...              \n",
       " 2779   1.533235e+09    18.101571                   0           ...              \n",
       " 2208   0.000000e+00     0.000000                   0           ...              \n",
       " 10244  1.510857e+09     2.200000                   0           ...              \n",
       " 2143   1.529347e+09     1.200000                   0           ...              \n",
       " \n",
       "        cat_SPORTS  cat_TRAVEL_AND_LOCAL  cat_TOOLS  cat_PERSONALIZATION  \\\n",
       " 212             0                     0          0                    0   \n",
       " 6547            0                     0          0                    0   \n",
       " 2378            0                     0          0                    0   \n",
       " 5744            0                     0          1                    0   \n",
       " 3793            0                     0          0                    0   \n",
       " 10736           0                     0          0                    0   \n",
       " 6366            0                     0          0                    1   \n",
       " 450             0                     0          0                    0   \n",
       " 5940            0                     0          0                    0   \n",
       " 725             0                     0          0                    0   \n",
       " 9344            0                     0          0                    0   \n",
       " 8781            0                     0          0                    0   \n",
       " 10399           0                     0          0                    0   \n",
       " 9814            0                     0          0                    0   \n",
       " 4542            0                     0          0                    0   \n",
       " 8220            0                     0          0                    0   \n",
       " 8694            0                     0          0                    1   \n",
       " 2766            0                     0          0                    0   \n",
       " 816             0                     0          0                    0   \n",
       " 344             0                     0          0                    0   \n",
       " 43              0                     0          0                    0   \n",
       " 7119            0                     0          0                    1   \n",
       " 892             0                     0          0                    0   \n",
       " 3060            0                     0          0                    0   \n",
       " 6787            0                     0          1                    0   \n",
       " 3816            0                     0          0                    0   \n",
       " 8268            0                     0          0                    0   \n",
       " 8959            0                     0          0                    0   \n",
       " 6099            0                     0          0                    0   \n",
       " 8527            0                     0          1                    0   \n",
       " ...           ...                   ...        ...                  ...   \n",
       " 1459            0                     0          0                    0   \n",
       " 9405            0                     0          0                    0   \n",
       " 6252            0                     0          0                    0   \n",
       " 10338           0                     0          0                    1   \n",
       " 3406            0                     0          0                    1   \n",
       " 7219            0                     0          1                    0   \n",
       " 1858            0                     0          0                    0   \n",
       " 9833            0                     0          0                    0   \n",
       " 474             0                     0          0                    0   \n",
       " 10110           0                     0          0                    0   \n",
       " 10281           0                     0          0                    0   \n",
       " 8135            0                     0          0                    0   \n",
       " 9348            0                     0          0                    0   \n",
       " 8590            0                     0          0                    1   \n",
       " 3787            0                     0          0                    0   \n",
       " 1486            0                     0          0                    0   \n",
       " 3165            0                     0          0                    0   \n",
       " 3196            0                     1          0                    0   \n",
       " 4312            0                     0          0                    0   \n",
       " 7838            0                     0          0                    0   \n",
       " 7002            0                     0          0                    0   \n",
       " 203             0                     0          0                    0   \n",
       " 1500            0                     0          0                    0   \n",
       " 10567           1                     0          0                    0   \n",
       " 4487            0                     0          0                    1   \n",
       " 6938            0                     0          0                    0   \n",
       " 2779            0                     0          0                    0   \n",
       " 2208            0                     0          0                    0   \n",
       " 10244           1                     0          0                    0   \n",
       " 2143            0                     0          0                    0   \n",
       " \n",
       "        cat_PRODUCTIVITY  cat_PARENTING  cat_WEATHER  cat_VIDEO_PLAYERS  \\\n",
       " 212                   0              0            0                  0   \n",
       " 6547                  0              0            0                  0   \n",
       " 2378                  0              0            0                  0   \n",
       " 5744                  0              0            0                  0   \n",
       " 3793                  0              0            0                  0   \n",
       " 10736                 0              0            0                  0   \n",
       " 6366                  0              0            0                  0   \n",
       " 450                   0              0            0                  0   \n",
       " 5940                  0              0            0                  0   \n",
       " 725                   0              0            0                  0   \n",
       " 9344                  0              0            0                  0   \n",
       " 8781                  0              0            0                  0   \n",
       " 10399                 0              0            0                  0   \n",
       " 9814                  0              0            0                  0   \n",
       " 4542                  0              0            0                  0   \n",
       " 8220                  0              0            0                  0   \n",
       " 8694                  0              0            0                  0   \n",
       " 2766                  0              0            0                  0   \n",
       " 816                   0              0            0                  0   \n",
       " 344                   0              0            0                  0   \n",
       " 43                    0              0            0                  0   \n",
       " 7119                  0              0            0                  0   \n",
       " 892                   0              0            0                  0   \n",
       " 3060                  0              0            0                  0   \n",
       " 6787                  0              0            0                  0   \n",
       " 3816                  0              0            0                  0   \n",
       " 8268                  0              0            0                  0   \n",
       " 8959                  0              0            0                  0   \n",
       " 6099                  0              0            0                  0   \n",
       " 8527                  0              0            0                  0   \n",
       " ...                 ...            ...          ...                ...   \n",
       " 1459                  0              0            0                  0   \n",
       " 9405                  0              0            0                  0   \n",
       " 6252                  0              0            0                  0   \n",
       " 10338                 0              0            0                  0   \n",
       " 3406                  0              0            0                  0   \n",
       " 7219                  0              0            0                  0   \n",
       " 1858                  0              0            0                  0   \n",
       " 9833                  0              0            0                  0   \n",
       " 474                   0              0            0                  0   \n",
       " 10110                 0              0            0                  0   \n",
       " 10281                 0              0            0                  0   \n",
       " 8135                  0              0            0                  0   \n",
       " 9348                  0              0            0                  0   \n",
       " 8590                  0              0            0                  0   \n",
       " 3787                  0              0            0                  0   \n",
       " 1486                  0              0            0                  0   \n",
       " 3165                  0              0            0                  0   \n",
       " 3196                  0              0            0                  0   \n",
       " 4312                  0              0            0                  0   \n",
       " 7838                  0              0            0                  0   \n",
       " 7002                  0              0            0                  0   \n",
       " 203                   0              0            0                  0   \n",
       " 1500                  0              0            0                  0   \n",
       " 10567                 0              0            0                  0   \n",
       " 4487                  0              0            0                  0   \n",
       " 6938                  0              0            0                  0   \n",
       " 2779                  0              0            0                  0   \n",
       " 2208                  0              0            0                  0   \n",
       " 10244                 0              0            0                  0   \n",
       " 2143                  0              0            0                  0   \n",
       " \n",
       "        cat_NEWS_AND_MAGAZINES  cat_MAPS_AND_NAVIGATION  \n",
       " 212                         0                        0  \n",
       " 6547                        0                        0  \n",
       " 2378                        0                        0  \n",
       " 5744                        0                        0  \n",
       " 3793                        1                        0  \n",
       " 10736                       0                        0  \n",
       " 6366                        0                        0  \n",
       " 450                         0                        0  \n",
       " 5940                        1                        0  \n",
       " 725                         0                        0  \n",
       " 9344                        0                        0  \n",
       " 8781                        0                        0  \n",
       " 10399                       0                        0  \n",
       " 9814                        0                        0  \n",
       " 4542                        0                        0  \n",
       " 8220                        0                        0  \n",
       " 8694                        0                        0  \n",
       " 2766                        0                        0  \n",
       " 816                         0                        0  \n",
       " 344                         0                        0  \n",
       " 43                          0                        0  \n",
       " 7119                        0                        0  \n",
       " 892                         0                        0  \n",
       " 3060                        0                        0  \n",
       " 6787                        0                        0  \n",
       " 3816                        1                        0  \n",
       " 8268                        0                        0  \n",
       " 8959                        0                        0  \n",
       " 6099                        0                        0  \n",
       " 8527                        0                        0  \n",
       " ...                       ...                      ...  \n",
       " 1459                        0                        0  \n",
       " 9405                        0                        0  \n",
       " 6252                        0                        0  \n",
       " 10338                       0                        0  \n",
       " 3406                        0                        0  \n",
       " 7219                        0                        0  \n",
       " 1858                        0                        0  \n",
       " 9833                        0                        0  \n",
       " 474                         0                        0  \n",
       " 10110                       0                        0  \n",
       " 10281                       0                        0  \n",
       " 8135                        0                        0  \n",
       " 9348                        0                        0  \n",
       " 8590                        0                        0  \n",
       " 3787                        1                        0  \n",
       " 1486                        0                        0  \n",
       " 3165                        0                        0  \n",
       " 3196                        0                        0  \n",
       " 4312                        0                        0  \n",
       " 7838                        0                        0  \n",
       " 7002                        0                        0  \n",
       " 203                         0                        0  \n",
       " 1500                        0                        0  \n",
       " 10567                       0                        0  \n",
       " 4487                        0                        0  \n",
       " 6938                        0                        0  \n",
       " 2779                        0                        0  \n",
       " 2208                        0                        0  \n",
       " 10244                       0                        0  \n",
       " 2143                        0                        0  \n",
       " \n",
       " [2710 rows x 42 columns],\n",
       " 10802    4.0\n",
       " 2943     0.0\n",
       " 8547     4.1\n",
       " 3247     3.1\n",
       " 2755     4.5\n",
       " 4438     4.4\n",
       " 8783     4.0\n",
       " 2548     0.0\n",
       " 6629     4.7\n",
       " 7388     4.3\n",
       " 7811     4.1\n",
       " 10390    3.9\n",
       " 817      4.0\n",
       " 3827     0.0\n",
       " 5241     3.8\n",
       " 3031     4.4\n",
       " 1258     4.9\n",
       " 6043     5.0\n",
       " 3902     4.1\n",
       " 1775     4.1\n",
       " 2570     4.3\n",
       " 6542     4.3\n",
       " 7239     5.0\n",
       " 1651     0.0\n",
       " 21       4.1\n",
       " 3509     4.5\n",
       " 1863     4.7\n",
       " 10059    3.7\n",
       " 4283     0.0\n",
       " 3480     0.0\n",
       "         ... \n",
       " 1366     0.0\n",
       " 3932     4.2\n",
       " 653      4.3\n",
       " 1406     4.5\n",
       " 409      4.2\n",
       " 6899     2.9\n",
       " 9166     4.3\n",
       " 8036     4.4\n",
       " 574      0.0\n",
       " 7290     4.6\n",
       " 3416     4.1\n",
       " 2102     4.4\n",
       " 2443     4.3\n",
       " 239      0.0\n",
       " 4452     5.0\n",
       " 5648     4.7\n",
       " 10743    3.4\n",
       " 6400     4.0\n",
       " 9289     3.9\n",
       " 9224     4.3\n",
       " 10234    4.3\n",
       " 10141    4.1\n",
       " 1520     4.3\n",
       " 4829     4.2\n",
       " 10201    4.0\n",
       " 9372     3.8\n",
       " 7291     5.0\n",
       " 1344     4.6\n",
       " 7293     4.3\n",
       " 1289     0.0\n",
       " Name: Rating, Length: 8130, dtype: float64,\n",
       " 212      4.1\n",
       " 6547     4.4\n",
       " 2378     4.5\n",
       " 5744     4.2\n",
       " 3793     4.2\n",
       " 10736    4.3\n",
       " 6366     4.3\n",
       " 450      4.0\n",
       " 5940     4.4\n",
       " 725      4.2\n",
       " 9344     3.3\n",
       " 8781     4.3\n",
       " 10399    4.3\n",
       " 9814     4.7\n",
       " 4542     4.3\n",
       " 8220     4.2\n",
       " 8694     4.4\n",
       " 2766     4.6\n",
       " 816      4.0\n",
       " 344      0.0\n",
       " 43       3.8\n",
       " 7119     4.1\n",
       " 892      4.2\n",
       " 3060     0.0\n",
       " 6787     3.6\n",
       " 3816     3.9\n",
       " 8268     4.3\n",
       " 8959     4.2\n",
       " 6099     2.2\n",
       " 8527     4.0\n",
       "         ... \n",
       " 1459     4.2\n",
       " 9405     3.8\n",
       " 6252     4.6\n",
       " 10338    4.3\n",
       " 3406     4.1\n",
       " 7219     4.4\n",
       " 1858     4.3\n",
       " 9833     0.0\n",
       " 474      0.0\n",
       " 10110    4.3\n",
       " 10281    0.0\n",
       " 8135     2.8\n",
       " 9348     4.2\n",
       " 8590     4.3\n",
       " 3787     4.0\n",
       " 1486     4.7\n",
       " 3165     0.0\n",
       " 3196     4.1\n",
       " 4312     4.4\n",
       " 7838     2.3\n",
       " 7002     0.0\n",
       " 203      0.0\n",
       " 1500     4.4\n",
       " 10567    4.3\n",
       " 4487     4.8\n",
       " 6938     4.3\n",
       " 2779     4.1\n",
       " 2208     0.0\n",
       " 10244    4.4\n",
       " 2143     4.4\n",
       " Name: Rating, Length: 2710, dtype: float64)"
      ]
     },
     "execution_count": 22,
     "metadata": {},
     "output_type": "execute_result"
    }
   ],
   "source": [
    "X_train, X_test, y_train, y_test = train_test_split(X, y, test_size = 0.25, random_state = 10)\n",
    "X_train, X_test, y_train, y_test"
   ]
  },
  {
   "cell_type": "markdown",
   "metadata": {
    "_uuid": "93401fd7ad1370c54ad8e993beb7e63fca2c9487"
   },
   "source": [
    "The above script splits the dataset into 85% train data and 25% test data."
   ]
  },
  {
   "cell_type": "code",
   "execution_count": 23,
   "metadata": {},
   "outputs": [
    {
     "name": "stderr",
     "output_type": "stream",
     "text": [
      "C:\\ProgramData\\Anaconda3\\lib\\site-packages\\sklearn\\preprocessing\\data.py:625: DataConversionWarning: Data with input dtype int32, int64, float64, object were all converted to float64 by StandardScaler.\n",
      "  return self.partial_fit(X, y)\n"
     ]
    },
    {
     "data": {
      "text/plain": [
       "StandardScaler(copy=True, with_mean=True, with_std=True)"
      ]
     },
     "execution_count": 23,
     "metadata": {},
     "output_type": "execute_result"
    }
   ],
   "source": [
    "from sklearn.preprocessing import StandardScaler\n",
    "scaler = StandardScaler()\n",
    "scaler.fit(X_train)\n"
   ]
  },
  {
   "cell_type": "code",
   "execution_count": 24,
   "metadata": {},
   "outputs": [
    {
     "name": "stderr",
     "output_type": "stream",
     "text": [
      "C:\\ProgramData\\Anaconda3\\lib\\site-packages\\ipykernel_launcher.py:1: DataConversionWarning: Data with input dtype int32, int64, float64, object were all converted to float64 by StandardScaler.\n",
      "  \"\"\"Entry point for launching an IPython kernel.\n"
     ]
    },
    {
     "data": {
      "text/plain": [
       "array([[ 0.07621155, -0.03959357, -0.14122496, ..., -0.11215792,\n",
       "        -0.14032626, -0.10278895],\n",
       "       [-1.32023285, -0.33780492, -0.14146545, ..., -0.11215792,\n",
       "        -0.14032626, -0.10278895],\n",
       "       [ 0.11478557, -0.3058537 , -0.13906056, ..., -0.11215792,\n",
       "        -0.14032626, -0.10278895],\n",
       "       ...,\n",
       "       [ 0.34428479,  0.07756089,  0.09902264, ..., -0.11215792,\n",
       "        -0.14032626, -0.10278895],\n",
       "       [-0.67322658, -0.32608947, -0.1414414 , ..., -0.11215792,\n",
       "        -0.14032626, -0.10278895],\n",
       "       [-1.32023285, -0.33780492, -0.14146545, ..., -0.11215792,\n",
       "        -0.14032626, -0.10278895]])"
      ]
     },
     "execution_count": 24,
     "metadata": {},
     "output_type": "execute_result"
    }
   ],
   "source": [
    "X_train = scaler.transform(X_train)\n",
    "X_train\n"
   ]
  },
  {
   "cell_type": "code",
   "execution_count": 25,
   "metadata": {},
   "outputs": [
    {
     "name": "stderr",
     "output_type": "stream",
     "text": [
      "C:\\ProgramData\\Anaconda3\\lib\\site-packages\\ipykernel_launcher.py:1: DataConversionWarning: Data with input dtype int32, int64, float64, object were all converted to float64 by StandardScaler.\n",
      "  \"\"\"Entry point for launching an IPython kernel.\n"
     ]
    },
    {
     "data": {
      "text/plain": [
       "array([[-0.82784681, -0.18869924, -0.11741664, ..., -0.11215792,\n",
       "        -0.14032626, -0.10278895],\n",
       "       [ 1.21916953,  0.3012194 , -0.13906056, ..., -0.11215792,\n",
       "        -0.14032626, -0.10278895],\n",
       "       [-1.19964852, -0.07154479, -0.14122496, ..., -0.11215792,\n",
       "        -0.14032626, -0.10278895],\n",
       "       ...,\n",
       "       [-1.32023285, -0.33780492, -0.14146545, ..., -0.11215792,\n",
       "        -0.14032626, -0.10278895],\n",
       "       [-0.85507554, -0.30478866, -0.14122496, ..., -0.11215792,\n",
       "        -0.14032626, -0.10278895],\n",
       "       [-0.03464824,  0.05626008, -0.12944104, ..., -0.11215792,\n",
       "        -0.14032626, -0.10278895]])"
      ]
     },
     "execution_count": 25,
     "metadata": {},
     "output_type": "execute_result"
    }
   ],
   "source": [
    "X_test = scaler.transform(X_test)\n",
    "X_test"
   ]
  },
  {
   "cell_type": "markdown",
   "metadata": {},
   "source": [
    "# K-Nearest Neighbors "
   ]
  },
  {
   "cell_type": "markdown",
   "metadata": {},
   "source": [
    "KNN can be used for both classification and regression problems. The algorithm uses ‘feature similarity’ to predict values of any new data points. This means that the new point is assigned a value based on how closely it resembles the points in the training set. "
   ]
  },
  {
   "cell_type": "code",
   "execution_count": 27,
   "metadata": {},
   "outputs": [
    {
     "data": {
      "text/plain": [
       "KNeighborsRegressor(algorithm='auto', leaf_size=30, metric='minkowski',\n",
       "          metric_params=None, n_jobs=None, n_neighbors=10, p=2,\n",
       "          weights='uniform')"
      ]
     },
     "execution_count": 27,
     "metadata": {},
     "output_type": "execute_result"
    }
   ],
   "source": [
    "knn=KNeighborsRegressor(n_neighbors=10)\n",
    "knn.fit(X_train,y_train)"
   ]
  },
  {
   "cell_type": "code",
   "execution_count": 28,
   "metadata": {},
   "outputs": [
    {
     "data": {
      "text/plain": [
       "array([4.15, 4.36, 4.31, ..., 0.  , 4.09, 3.8 ])"
      ]
     },
     "execution_count": 28,
     "metadata": {},
     "output_type": "execute_result"
    }
   ],
   "source": [
    "y_pred=knn.predict(X_test)\n",
    "y_pred"
   ]
  },
  {
   "cell_type": "code",
   "execution_count": 32,
   "metadata": {},
   "outputs": [
    {
     "data": {
      "text/plain": [
       "0.44823405028805924"
      ]
     },
     "execution_count": 32,
     "metadata": {},
     "output_type": "execute_result"
    }
   ],
   "source": [
    "sqrt(mean_squared_error(y_test,y_pred))"
   ]
  },
  {
   "cell_type": "code",
   "execution_count": 33,
   "metadata": {},
   "outputs": [
    {
     "name": "stdout",
     "output_type": "stream",
     "text": [
      "92.30000983991775 %\n"
     ]
    }
   ],
   "source": [
    "r2=r2_score(y_test,y_pred)*100\n",
    "print(r2,\"%\")"
   ]
  },
  {
   "cell_type": "markdown",
   "metadata": {},
   "source": [
    "# Random Forest"
   ]
  },
  {
   "cell_type": "markdown",
   "metadata": {},
   "source": [
    "\n",
    "Random forests can be used for regression analysis and are in fact called Regression Forests. They are an ensemble of different regression trees and are used for nonlinear multiple regression. Each leaf contains a distribution for the continuous output variable.\n"
   ]
  },
  {
   "cell_type": "code",
   "execution_count": 36,
   "metadata": {},
   "outputs": [
    {
     "data": {
      "text/plain": [
       "[(10,),\n",
       " (20,),\n",
       " (30,),\n",
       " (40,),\n",
       " (50,),\n",
       " (60,),\n",
       " (70,),\n",
       " (80,),\n",
       " (90,),\n",
       " (100,),\n",
       " (110,),\n",
       " (120,),\n",
       " (130,),\n",
       " (140,),\n",
       " (150,),\n",
       " (160,),\n",
       " (170,),\n",
       " (180,),\n",
       " (190,)]"
      ]
     },
     "execution_count": 36,
     "metadata": {},
     "output_type": "execute_result"
    },
    {
     "data": {
      "image/png": "[encoded data removed]",
      "text/plain": [
       "<Figure size 360x360 with 1 Axes>"
      ]
     },
     "metadata": {
      "needs_background": "light"
     },
     "output_type": "display_data"
    }
   ],
   "source": [
    "# Establish model\n",
    "model = RandomForestRegressor(n_jobs=-1)\n",
    "# Try different numbers of n_estimators - this will take a minute or so\n",
    "estimators = np.arange(10, 200, 10)\n",
    "scores = []\n",
    "for n in estimators:\n",
    "    model.set_params(n_estimators=n)\n",
    "    model.fit(X_train, y_train)\n",
    "    scores.append(model.score(X_test, y_test))\n",
    "plt.figure(figsize=(5, 5))\n",
    "plt.xlabel(\"number of estimator\")\n",
    "plt.ylabel(\"score\")\n",
    "plt.plot(estimators, scores)\n",
    "plt.grid()\n",
    "results = list(zip(estimators))\n",
    "results"
   ]
  },
  {
   "cell_type": "code",
   "execution_count": 196,
   "metadata": {},
   "outputs": [
    {
     "data": {
      "text/plain": [
       "[0.9244565360535464,\n",
       " 0.9294030857636403,\n",
       " 0.9287816012707173,\n",
       " 0.931277923328461,\n",
       " 0.9313522326645143,\n",
       " 0.9320113917365122,\n",
       " 0.9316375953113984,\n",
       " 0.9325276142030183,\n",
       " 0.9318829089218916,\n",
       " 0.9323530332032204,\n",
       " 0.9328465517740923,\n",
       " 0.9325311635453873,\n",
       " 0.9326543660324013,\n",
       " 0.9326989447371195,\n",
       " 0.9330982402268998,\n",
       " 0.9323485015910009,\n",
       " 0.9329593116279158,\n",
       " 0.9324702817294721,\n",
       " 0.9331951323028106]"
      ]
     },
     "execution_count": 196,
     "metadata": {},
     "output_type": "execute_result"
    }
   ],
   "source": [
    "scores"
   ]
  }
 ],
 "metadata": {
  "kernelspec": {
   "display_name": "Python 3",
   "language": "python",
   "name": "python3"
  },
  "language_info": {
   "codemirror_mode": {
    "name": "ipython",
    "version": 3
   },
   "file_extension": ".py",
   "mimetype": "text/x-python",
   "name": "python",
   "nbconvert_exporter": "python",
   "pygments_lexer": "ipython3",
   "version": "3.7.1"
  }
 },
 "nbformat": 4,
 "nbformat_minor": 1
}
